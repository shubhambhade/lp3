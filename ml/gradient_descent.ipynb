{
 "cells": [
  {
   "cell_type": "markdown",
   "metadata": {},
   "source": [
    "Implement Gradient Descent Algorithm to find the local minima of a function. \n",
    "For example, find the local minima of the function y=(x+3)² starting from the point x=2. \n"
   ]
  },
  {
   "cell_type": "code",
   "execution_count": 48,
   "metadata": {},
   "outputs": [],
   "source": [
    "def cost_function(x):\n",
    "    # ithe given function yenar\n",
    "    return (x + 3) ** 2\n"
   ]
  },
  {
   "cell_type": "code",
   "execution_count": 49,
   "metadata": {},
   "outputs": [],
   "source": [
    "x = 2 # start \n",
    "lr = 0.01 # learning rate\n",
    "precision = 0.000001\n",
    "previous_step_size = 1\n",
    "max_iter = 100\n",
    "iters = 0"
   ]
  },
  {
   "cell_type": "code",
   "execution_count": 50,
   "metadata": {},
   "outputs": [
    {
     "name": "stdout",
     "output_type": "stream",
     "text": [
      "Iteration :  1  Value :  1.75\n",
      "Iteration :  2  Value :  1.524375\n",
      "Iteration :  3  Value :  1.31967530859375\n",
      "Iteration :  4  Value :  1.133079360877005\n",
      "Iteration :  5  Value :  0.9622559108439301\n",
      "Iteration :  6  Value :  0.8052611918137536\n",
      "Iteration :  7  Value :  0.6604610644345152\n",
      "Iteration :  8  Value :  0.5264713123921045\n",
      "Iteration :  9  Value :  0.4021113132208596\n",
      "Iteration :  10  Value :  0.28636769934540596\n",
      "Iteration :  11  Value :  0.1783655727923978\n",
      "Iteration :  12  Value :  0.07734549564927831\n",
      "Iteration :  13  Value :  -0.017355057346650715\n",
      "Iteration :  14  Value :  -0.10631676588600673\n",
      "Iteration :  15  Value :  -0.19005079247993095\n",
      "Iteration :  16  Value :  -0.26900893796835756\n",
      "Iteration :  17  Value :  -0.34359205977732477\n",
      "Iteration :  18  Value :  -0.41415709122610556\n",
      "Iteration :  19  Value :  -0.4810229267146679\n",
      "Iteration :  20  Value :  -0.5444753816720392\n",
      "Iteration :  21  Value :  -0.604771393184186\n",
      "Iteration :  22  Value :  -0.6621425939732744\n",
      "Iteration :  23  Value :  -0.7167983664824145\n",
      "Iteration :  24  Value :  -0.7689284634753881\n",
      "Iteration :  25  Value :  -0.8187052654862911\n",
      "Iteration :  26  Value :  -0.8662857326744634\n",
      "Iteration :  27  Value :  -0.911813098420349\n",
      "Iteration :  28  Value :  -0.9554183437796372\n",
      "Iteration :  29  Value :  -0.9972214852691652\n",
      "Iteration :  30  Value :  -1.0373327030598396\n",
      "Iteration :  31  Value :  -1.0758533322446235\n",
      "Iteration :  32  Value :  -1.1128767362349647\n",
      "Iteration :  33  Value :  -1.1484890783613968\n",
      "Iteration :  34  Value :  -1.1827700052908672\n",
      "Iteration :  35  Value :  -1.2157932538275726\n",
      "Iteration :  36  Value :  -1.2476271909584447\n",
      "Iteration :  37  Value :  -1.2783352955771266\n",
      "Iteration :  38  Value :  -1.3079765891216815\n",
      "Iteration :  39  Value :  -1.3366060213512845\n",
      "Iteration :  40  Value :  -1.3642748166333325\n",
      "Iteration :  41  Value :  -1.3910307853883317\n",
      "Iteration :  42  Value :  -1.4169186047240125\n",
      "Iteration :  43  Value :  -1.4419800717647022\n",
      "Iteration :  44  Value :  -1.4662543327324855\n",
      "Iteration :  45  Value :  -1.4897780904511042\n",
      "Iteration :  46  Value :  -1.5125857926119193\n",
      "Iteration :  47  Value :  -1.5347098028553183\n",
      "Iteration :  48  Value :  -1.5561805564738014\n",
      "Iteration :  49  Value :  -1.5770267023288445\n",
      "Iteration :  50  Value :  -1.5972752323876958\n",
      "Iteration :  51  Value :  -1.6169516001244257\n",
      "Iteration :  52  Value :  -1.6360798288884095\n",
      "Iteration :  53  Value :  -1.6546826112200603\n",
      "Iteration :  54  Value :  -1.6727813999855972\n",
      "Iteration :  55  Value :  -1.6903964921078392\n",
      "Iteration :  56  Value :  -1.7075471055866738\n",
      "Iteration :  57  Value :  -1.7242514504294477\n",
      "Iteration :  58  Value :  -1.7405267940467615\n",
      "Iteration :  59  Value :  -1.7563895216119028\n",
      "Iteration :  60  Value :  -1.7718551918314696\n",
      "Iteration :  61  Value :  -1.7869385885297828\n",
      "Iteration :  62  Value :  -1.801653768409764\n",
      "Iteration :  63  Value :  -1.8160141053174292\n",
      "Iteration :  64  Value :  -1.830032331305502\n",
      "Iteration :  65  Value :  -1.8437205747634065\n",
      "Iteration :  66  Value :  -1.857090395855661\n",
      "Iteration :  67  Value :  -1.8701528194881147\n",
      "Iteration :  68  Value :  -1.8829183660012212\n",
      "Iteration :  69  Value :  -1.895397079771395\n",
      "Iteration :  70  Value :  -1.9075985558851707\n",
      "Iteration :  71  Value :  -1.9195319650362124\n",
      "Iteration :  72  Value :  -1.9312060767819974\n",
      "Iteration :  73  Value :  -1.9426292812850747\n",
      "Iteration :  74  Value :  -1.953809609653032\n",
      "Iteration :  75  Value :  -1.9647547529815754\n",
      "Iteration :  76  Value :  -1.975472080196318\n",
      "Iteration :  77  Value :  -1.9859686547808906\n",
      "Iteration :  78  Value :  -1.9962512504717593\n",
      "Iteration :  79  Value :  -2.006326365993554\n",
      "Iteration :  80  Value :  -2.01620023890275\n",
      "Iteration :  81  Value :  -2.0258788586021\n",
      "Iteration :  82  Value :  -2.0353679785832837\n",
      "Iteration :  83  Value :  -2.0446731279507087\n",
      "Iteration :  84  Value :  -2.0537996222753034\n",
      "Iteration :  85  Value :  -2.062752573823367\n",
      "Iteration :  86  Value :  -2.0715369012021143\n",
      "Iteration :  87  Value :  -2.080157338460408\n",
      "Iteration :  88  Value :  -2.08861844368029\n",
      "Iteration :  89  Value :  -2.0969246070922876\n",
      "Iteration :  90  Value :  -2.105080058745042\n",
      "Iteration :  91  Value :  -2.1130888757575996\n",
      "Iteration :  92  Value :  -2.1209549891806487\n",
      "Iteration :  93  Value :  -2.1286821904911126\n",
      "Iteration :  94  Value :  -2.1362741377427863\n",
      "Iteration :  95  Value :  -2.143734361394106\n",
      "Iteration :  96  Value :  -2.1510662698326777\n",
      "Iteration :  97  Value :  -2.158273154614836\n",
      "Iteration :  98  Value :  -2.1653581954372565\n",
      "Iteration :  99  Value :  -2.172324464856494\n",
      "Iteration :  100  Value :  -2.179174932771245\n"
     ]
    }
   ],
   "source": [
    "while precision < previous_step_size and iters < max_iter :\n",
    "    prev = x\n",
    "    x = x - lr *cost_function(prev)\n",
    "    previous_step_size = abs(x-prev)\n",
    "    iters += 1\n",
    "    print(\"Iteration : \", iters , \" Value : \",x)\n",
    "    "
   ]
  },
  {
   "cell_type": "code",
   "execution_count": 51,
   "metadata": {},
   "outputs": [
    {
     "name": "stdout",
     "output_type": "stream",
     "text": [
      "Local minima :  -2.179174932771245\n"
     ]
    }
   ],
   "source": [
    "print(\"Local minima : \",x)"
   ]
  },
  {
   "cell_type": "code",
   "execution_count": null,
   "metadata": {},
   "outputs": [],
   "source": []
  }
 ],
 "metadata": {
  "kernelspec": {
   "display_name": "base",
   "language": "python",
   "name": "python3"
  },
  "language_info": {
   "codemirror_mode": {
    "name": "ipython",
    "version": 3
   },
   "file_extension": ".py",
   "mimetype": "text/x-python",
   "name": "python",
   "nbconvert_exporter": "python",
   "pygments_lexer": "ipython3",
   "version": "3.11.5"
  }
 },
 "nbformat": 4,
 "nbformat_minor": 2
}
